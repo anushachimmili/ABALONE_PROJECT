{
 "cells": [
  {
   "cell_type": "code",
   "execution_count": 2,
   "metadata": {},
   "outputs": [],
   "source": [
    "import pandas as pd\n",
    "import numpy as np\n",
    "import matplotlib.pyplot as plt\n",
    "import seaborn as sns\n",
    "%matplotlib inline"
   ]
  },
  {
   "cell_type": "code",
   "execution_count": 3,
   "metadata": {},
   "outputs": [],
   "source": [
    "df=pd.read_csv('data/abalone.csv')"
   ]
  },
  {
   "cell_type": "code",
   "execution_count": 4,
   "metadata": {},
   "outputs": [
    {
     "data": {
      "text/html": [
       "<div>\n",
       "<style scoped>\n",
       "    .dataframe tbody tr th:only-of-type {\n",
       "        vertical-align: middle;\n",
       "    }\n",
       "\n",
       "    .dataframe tbody tr th {\n",
       "        vertical-align: top;\n",
       "    }\n",
       "\n",
       "    .dataframe thead th {\n",
       "        text-align: right;\n",
       "    }\n",
       "</style>\n",
       "<table border=\"1\" class=\"dataframe\">\n",
       "  <thead>\n",
       "    <tr style=\"text-align: right;\">\n",
       "      <th></th>\n",
       "      <th>Sex</th>\n",
       "      <th>Length</th>\n",
       "      <th>Diameter</th>\n",
       "      <th>Height</th>\n",
       "      <th>Whole weight</th>\n",
       "      <th>Shucked weight</th>\n",
       "      <th>Viscera weight</th>\n",
       "      <th>Shell weight</th>\n",
       "      <th>Rings</th>\n",
       "    </tr>\n",
       "  </thead>\n",
       "  <tbody>\n",
       "    <tr>\n",
       "      <th>0</th>\n",
       "      <td>M</td>\n",
       "      <td>0.455</td>\n",
       "      <td>0.365</td>\n",
       "      <td>0.095</td>\n",
       "      <td>0.5140</td>\n",
       "      <td>0.2245</td>\n",
       "      <td>0.1010</td>\n",
       "      <td>0.150</td>\n",
       "      <td>15</td>\n",
       "    </tr>\n",
       "    <tr>\n",
       "      <th>1</th>\n",
       "      <td>M</td>\n",
       "      <td>0.350</td>\n",
       "      <td>0.265</td>\n",
       "      <td>0.090</td>\n",
       "      <td>0.2255</td>\n",
       "      <td>0.0995</td>\n",
       "      <td>0.0485</td>\n",
       "      <td>0.070</td>\n",
       "      <td>7</td>\n",
       "    </tr>\n",
       "    <tr>\n",
       "      <th>2</th>\n",
       "      <td>F</td>\n",
       "      <td>0.530</td>\n",
       "      <td>0.420</td>\n",
       "      <td>0.135</td>\n",
       "      <td>0.6770</td>\n",
       "      <td>0.2565</td>\n",
       "      <td>0.1415</td>\n",
       "      <td>0.210</td>\n",
       "      <td>9</td>\n",
       "    </tr>\n",
       "    <tr>\n",
       "      <th>3</th>\n",
       "      <td>M</td>\n",
       "      <td>0.440</td>\n",
       "      <td>0.365</td>\n",
       "      <td>0.125</td>\n",
       "      <td>0.5160</td>\n",
       "      <td>0.2155</td>\n",
       "      <td>0.1140</td>\n",
       "      <td>0.155</td>\n",
       "      <td>10</td>\n",
       "    </tr>\n",
       "    <tr>\n",
       "      <th>4</th>\n",
       "      <td>I</td>\n",
       "      <td>0.330</td>\n",
       "      <td>0.255</td>\n",
       "      <td>0.080</td>\n",
       "      <td>0.2050</td>\n",
       "      <td>0.0895</td>\n",
       "      <td>0.0395</td>\n",
       "      <td>0.055</td>\n",
       "      <td>7</td>\n",
       "    </tr>\n",
       "  </tbody>\n",
       "</table>\n",
       "</div>"
      ],
      "text/plain": [
       "  Sex  Length  Diameter  Height  Whole weight  Shucked weight  Viscera weight  \\\n",
       "0   M   0.455     0.365   0.095        0.5140          0.2245          0.1010   \n",
       "1   M   0.350     0.265   0.090        0.2255          0.0995          0.0485   \n",
       "2   F   0.530     0.420   0.135        0.6770          0.2565          0.1415   \n",
       "3   M   0.440     0.365   0.125        0.5160          0.2155          0.1140   \n",
       "4   I   0.330     0.255   0.080        0.2050          0.0895          0.0395   \n",
       "\n",
       "   Shell weight  Rings  \n",
       "0         0.150     15  \n",
       "1         0.070      7  \n",
       "2         0.210      9  \n",
       "3         0.155     10  \n",
       "4         0.055      7  "
      ]
     },
     "execution_count": 4,
     "metadata": {},
     "output_type": "execute_result"
    }
   ],
   "source": [
    "df.head(5)"
   ]
  },
  {
   "cell_type": "code",
   "execution_count": 5,
   "metadata": {},
   "outputs": [
    {
     "name": "stdout",
     "output_type": "stream",
     "text": [
      "<class 'pandas.core.frame.DataFrame'>\n",
      "RangeIndex: 4177 entries, 0 to 4176\n",
      "Data columns (total 9 columns):\n",
      "Sex               4177 non-null object\n",
      "Length            4177 non-null float64\n",
      "Diameter          4177 non-null float64\n",
      "Height            4177 non-null float64\n",
      "Whole weight      4177 non-null float64\n",
      "Shucked weight    4177 non-null float64\n",
      "Viscera weight    4177 non-null float64\n",
      "Shell weight      4177 non-null float64\n",
      "Rings             4177 non-null int64\n",
      "dtypes: float64(7), int64(1), object(1)\n",
      "memory usage: 293.8+ KB\n"
     ]
    }
   ],
   "source": [
    "df.info()"
   ]
  },
  {
   "cell_type": "code",
   "execution_count": 6,
   "metadata": {},
   "outputs": [
    {
     "data": {
      "text/html": [
       "<div>\n",
       "<style scoped>\n",
       "    .dataframe tbody tr th:only-of-type {\n",
       "        vertical-align: middle;\n",
       "    }\n",
       "\n",
       "    .dataframe tbody tr th {\n",
       "        vertical-align: top;\n",
       "    }\n",
       "\n",
       "    .dataframe thead th {\n",
       "        text-align: right;\n",
       "    }\n",
       "</style>\n",
       "<table border=\"1\" class=\"dataframe\">\n",
       "  <thead>\n",
       "    <tr style=\"text-align: right;\">\n",
       "      <th></th>\n",
       "      <th>Length</th>\n",
       "      <th>Diameter</th>\n",
       "      <th>Height</th>\n",
       "      <th>Whole weight</th>\n",
       "      <th>Shucked weight</th>\n",
       "      <th>Viscera weight</th>\n",
       "      <th>Shell weight</th>\n",
       "      <th>Rings</th>\n",
       "    </tr>\n",
       "  </thead>\n",
       "  <tbody>\n",
       "    <tr>\n",
       "      <th>count</th>\n",
       "      <td>4177.000000</td>\n",
       "      <td>4177.000000</td>\n",
       "      <td>4177.000000</td>\n",
       "      <td>4177.000000</td>\n",
       "      <td>4177.000000</td>\n",
       "      <td>4177.000000</td>\n",
       "      <td>4177.000000</td>\n",
       "      <td>4177.000000</td>\n",
       "    </tr>\n",
       "    <tr>\n",
       "      <th>mean</th>\n",
       "      <td>0.523992</td>\n",
       "      <td>0.407881</td>\n",
       "      <td>0.139516</td>\n",
       "      <td>0.828742</td>\n",
       "      <td>0.359367</td>\n",
       "      <td>0.180594</td>\n",
       "      <td>0.238831</td>\n",
       "      <td>9.933684</td>\n",
       "    </tr>\n",
       "    <tr>\n",
       "      <th>std</th>\n",
       "      <td>0.120093</td>\n",
       "      <td>0.099240</td>\n",
       "      <td>0.041827</td>\n",
       "      <td>0.490389</td>\n",
       "      <td>0.221963</td>\n",
       "      <td>0.109614</td>\n",
       "      <td>0.139203</td>\n",
       "      <td>3.224169</td>\n",
       "    </tr>\n",
       "    <tr>\n",
       "      <th>min</th>\n",
       "      <td>0.075000</td>\n",
       "      <td>0.055000</td>\n",
       "      <td>0.000000</td>\n",
       "      <td>0.002000</td>\n",
       "      <td>0.001000</td>\n",
       "      <td>0.000500</td>\n",
       "      <td>0.001500</td>\n",
       "      <td>1.000000</td>\n",
       "    </tr>\n",
       "    <tr>\n",
       "      <th>25%</th>\n",
       "      <td>0.450000</td>\n",
       "      <td>0.350000</td>\n",
       "      <td>0.115000</td>\n",
       "      <td>0.441500</td>\n",
       "      <td>0.186000</td>\n",
       "      <td>0.093500</td>\n",
       "      <td>0.130000</td>\n",
       "      <td>8.000000</td>\n",
       "    </tr>\n",
       "    <tr>\n",
       "      <th>50%</th>\n",
       "      <td>0.545000</td>\n",
       "      <td>0.425000</td>\n",
       "      <td>0.140000</td>\n",
       "      <td>0.799500</td>\n",
       "      <td>0.336000</td>\n",
       "      <td>0.171000</td>\n",
       "      <td>0.234000</td>\n",
       "      <td>9.000000</td>\n",
       "    </tr>\n",
       "    <tr>\n",
       "      <th>75%</th>\n",
       "      <td>0.615000</td>\n",
       "      <td>0.480000</td>\n",
       "      <td>0.165000</td>\n",
       "      <td>1.153000</td>\n",
       "      <td>0.502000</td>\n",
       "      <td>0.253000</td>\n",
       "      <td>0.329000</td>\n",
       "      <td>11.000000</td>\n",
       "    </tr>\n",
       "    <tr>\n",
       "      <th>max</th>\n",
       "      <td>0.815000</td>\n",
       "      <td>0.650000</td>\n",
       "      <td>1.130000</td>\n",
       "      <td>2.825500</td>\n",
       "      <td>1.488000</td>\n",
       "      <td>0.760000</td>\n",
       "      <td>1.005000</td>\n",
       "      <td>29.000000</td>\n",
       "    </tr>\n",
       "  </tbody>\n",
       "</table>\n",
       "</div>"
      ],
      "text/plain": [
       "            Length     Diameter       Height  Whole weight  Shucked weight  \\\n",
       "count  4177.000000  4177.000000  4177.000000   4177.000000     4177.000000   \n",
       "mean      0.523992     0.407881     0.139516      0.828742        0.359367   \n",
       "std       0.120093     0.099240     0.041827      0.490389        0.221963   \n",
       "min       0.075000     0.055000     0.000000      0.002000        0.001000   \n",
       "25%       0.450000     0.350000     0.115000      0.441500        0.186000   \n",
       "50%       0.545000     0.425000     0.140000      0.799500        0.336000   \n",
       "75%       0.615000     0.480000     0.165000      1.153000        0.502000   \n",
       "max       0.815000     0.650000     1.130000      2.825500        1.488000   \n",
       "\n",
       "       Viscera weight  Shell weight        Rings  \n",
       "count     4177.000000   4177.000000  4177.000000  \n",
       "mean         0.180594      0.238831     9.933684  \n",
       "std          0.109614      0.139203     3.224169  \n",
       "min          0.000500      0.001500     1.000000  \n",
       "25%          0.093500      0.130000     8.000000  \n",
       "50%          0.171000      0.234000     9.000000  \n",
       "75%          0.253000      0.329000    11.000000  \n",
       "max          0.760000      1.005000    29.000000  "
      ]
     },
     "execution_count": 6,
     "metadata": {},
     "output_type": "execute_result"
    }
   ],
   "source": [
    "df.describe()"
   ]
  },
  {
   "cell_type": "code",
   "execution_count": 8,
   "metadata": {},
   "outputs": [
    {
     "data": {
      "text/plain": [
       "<matplotlib.axes._subplots.AxesSubplot at 0x7f8e78955690>"
      ]
     },
     "execution_count": 8,
     "metadata": {},
     "output_type": "execute_result"
    },
    {
     "data": {
      "image/png": "[encoded data removed]",
      "text/plain": [
       "<Figure size 432x288 with 1 Axes>"
      ]
     },
     "metadata": {
      "needs_background": "light"
     },
     "output_type": "display_data"
    }
   ],
   "source": [
    "sns.distplot(df.Height)"
   ]
  },
  {
   "cell_type": "code",
   "execution_count": 9,
   "metadata": {},
   "outputs": [
    {
     "data": {
      "text/plain": [
       "2"
      ]
     },
     "execution_count": 9,
     "metadata": {},
     "output_type": "execute_result"
    }
   ],
   "source": [
    "sum(df.Height>0.4)"
   ]
  },
  {
   "cell_type": "code",
   "execution_count": 10,
   "metadata": {
    "scrolled": true
   },
   "outputs": [
    {
     "data": {
      "text/plain": [
       "<matplotlib.axes._subplots.AxesSubplot at 0x7f8e7529e490>"
      ]
     },
     "execution_count": 10,
     "metadata": {},
     "output_type": "execute_result"
    },
    {
     "data": {
      "image/png": "[encoded data removed]",
      "text/plain": [
       "<Figure size 432x288 with 1 Axes>"
      ]
     },
     "metadata": {
      "needs_background": "light"
     },
     "output_type": "display_data"
    }
   ],
   "source": [
    "sns.distplot(df['Whole weight'])"
   ]
  },
  {
   "cell_type": "code",
   "execution_count": 49,
   "metadata": {},
   "outputs": [
    {
     "data": {
      "text/plain": [
       "<matplotlib.axes._subplots.AxesSubplot at 0x7f8e700f0b50>"
      ]
     },
     "execution_count": 49,
     "metadata": {},
     "output_type": "execute_result"
    },
    {
     "data": {
      "image/png": "[encoded data removed]",
      "text/plain": [
       "<Figure size 432x288 with 2 Axes>"
      ]
     },
     "metadata": {
      "needs_background": "light"
     },
     "output_type": "display_data"
    }
   ],
   "source": [
    "sns.heatmap(df.isnull())"
   ]
  },
  {
   "cell_type": "code",
   "execution_count": 12,
   "metadata": {},
   "outputs": [
    {
     "data": {
      "text/plain": [
       "10"
      ]
     },
     "execution_count": 12,
     "metadata": {},
     "output_type": "execute_result"
    }
   ],
   "source": [
    "sum(df['Whole weight']>2.5)"
   ]
  },
  {
   "cell_type": "code",
   "execution_count": 26,
   "metadata": {},
   "outputs": [
    {
     "name": "stdout",
     "output_type": "stream",
     "text": [
      "Length           -0.639873\n",
      "Diameter         -0.609198\n",
      "Height            3.128817\n",
      "Whole weight      0.530959\n",
      "Shucked weight    0.719098\n",
      "Viscera weight    0.591852\n",
      "Shell weight      0.620927\n",
      "Rings             1.114102\n",
      "dtype: float64\n",
      "Length             0.064621\n",
      "Diameter          -0.045476\n",
      "Height            76.025509\n",
      "Whole weight      -0.023644\n",
      "Shucked weight     0.595124\n",
      "Viscera weight     0.084012\n",
      "Shell weight       0.531926\n",
      "Rings              2.330687\n",
      "dtype: float64\n"
     ]
    }
   ],
   "source": [
    "print(df.skew())\n",
    "print(df.kurtosis())"
   ]
  },
  {
   "cell_type": "code",
   "execution_count": 16,
   "metadata": {},
   "outputs": [
    {
     "data": {
      "text/plain": [
       "M    1528\n",
       "I    1342\n",
       "F    1307\n",
       "Name: Sex, dtype: int64"
      ]
     },
     "execution_count": 16,
     "metadata": {},
     "output_type": "execute_result"
    }
   ],
   "source": [
    "df['Sex'].value_counts()"
   ]
  },
  {
   "cell_type": "code",
   "execution_count": 17,
   "metadata": {},
   "outputs": [],
   "source": [
    "df['Sex']=pd.Categorical(df['Sex'])"
   ]
  },
  {
   "cell_type": "code",
   "execution_count": 21,
   "metadata": {},
   "outputs": [
    {
     "data": {
      "text/plain": [
       "array([[<matplotlib.axes._subplots.AxesSubplot object at 0x7fab19082610>,\n",
       "        <matplotlib.axes._subplots.AxesSubplot object at 0x7fab18988e90>,\n",
       "        <matplotlib.axes._subplots.AxesSubplot object at 0x7fab18951c50>],\n",
       "       [<matplotlib.axes._subplots.AxesSubplot object at 0x7fab1890af50>,\n",
       "        <matplotlib.axes._subplots.AxesSubplot object at 0x7fab19150a50>,\n",
       "        <matplotlib.axes._subplots.AxesSubplot object at 0x7fab19023650>],\n",
       "       [<matplotlib.axes._subplots.AxesSubplot object at 0x7fab18895b10>,\n",
       "        <matplotlib.axes._subplots.AxesSubplot object at 0x7fab1884ae10>,\n",
       "        <matplotlib.axes._subplots.AxesSubplot object at 0x7fab188568d0>]],\n",
       "      dtype=object)"
      ]
     },
     "execution_count": 21,
     "metadata": {},
     "output_type": "execute_result"
    },
    {
     "data": {
      "image/png": "[encoded data removed]",
      "text/plain": [
       "<Figure size 720x576 with 9 Axes>"
      ]
     },
     "metadata": {
      "needs_background": "light"
     },
     "output_type": "display_data"
    }
   ],
   "source": [
    "df.hist(figsize=[10,8])"
   ]
  },
  {
   "cell_type": "code",
   "execution_count": 24,
   "metadata": {},
   "outputs": [
    {
     "data": {
      "text/plain": [
       "<matplotlib.axes._subplots.AxesSubplot at 0x7fab18380ed0>"
      ]
     },
     "execution_count": 24,
     "metadata": {},
     "output_type": "execute_result"
    },
    {
     "data": {
      "image/png": "[encoded data removed]",
      "text/plain": [
       "<Figure size 720x720 with 1 Axes>"
      ]
     },
     "metadata": {
      "needs_background": "light"
     },
     "output_type": "display_data"
    }
   ],
   "source": [
    "df.drop('Rings',axis=1).boxplot(figsize=[10,10])"
   ]
  },
  {
   "cell_type": "code",
   "execution_count": 20,
   "metadata": {
    "scrolled": false
   },
   "outputs": [
    {
     "data": {
      "image/png": "[encoded data removed]",
      "text/plain": [
       "<Figure size 720x720 with 1 Axes>"
      ]
     },
     "metadata": {
      "needs_background": "light"
     },
     "output_type": "display_data"
    }
   ],
   "source": [
    "fig, ax = plt.subplots(figsize=[10,10])\n",
    "ax.boxplot(df['Rings'])\n",
    "plt.show()"
   ]
  },
  {
   "cell_type": "code",
   "execution_count": 21,
   "metadata": {},
   "outputs": [
    {
     "data": {
      "text/plain": [
       "36"
      ]
     },
     "execution_count": 21,
     "metadata": {},
     "output_type": "execute_result"
    }
   ],
   "source": [
    "sum(df['Rings']>20)"
   ]
  },
  {
   "cell_type": "code",
   "execution_count": 26,
   "metadata": {},
   "outputs": [
    {
     "data": {
      "text/plain": [
       "(4177, 9)"
      ]
     },
     "execution_count": 26,
     "metadata": {},
     "output_type": "execute_result"
    }
   ],
   "source": [
    "df.shape"
   ]
  },
  {
   "cell_type": "markdown",
   "metadata": {},
   "source": [
    "## model training"
   ]
  },
  {
   "cell_type": "code",
   "execution_count": 28,
   "metadata": {},
   "outputs": [],
   "source": [
    "from sklearn.linear_model import LogisticRegression"
   ]
  },
  {
   "cell_type": "code",
   "execution_count": 44,
   "metadata": {},
   "outputs": [],
   "source": [
    "model = LogisticRegression(solver='lbfgs',multi_class='auto',max_iter=500)"
   ]
  },
  {
   "cell_type": "code",
   "execution_count": 30,
   "metadata": {},
   "outputs": [],
   "source": [
    "from sklearn.model_selection import train_test_split"
   ]
  },
  {
   "cell_type": "code",
   "execution_count": 34,
   "metadata": {},
   "outputs": [],
   "source": [
    "x_train,x_test,y_train,y_test=train_test_split(x,y,test_size=.2,random_state=42)"
   ]
  },
  {
   "cell_type": "code",
   "execution_count": 36,
   "metadata": {},
   "outputs": [
    {
     "data": {
      "text/plain": [
       "((3341, 8), (836, 8), (3341,), (836,))"
      ]
     },
     "execution_count": 36,
     "metadata": {},
     "output_type": "execute_result"
    }
   ],
   "source": [
    "x_train.shape,x_test.shape,y_train.shape,y_test.shape"
   ]
  },
  {
   "cell_type": "code",
   "execution_count": 45,
   "metadata": {},
   "outputs": [],
   "source": [
    "clf=model.fit(x_train,y_train)"
   ]
  },
  {
   "cell_type": "code",
   "execution_count": 46,
   "metadata": {},
   "outputs": [],
   "source": [
    "df1=clf.predict(x_test)"
   ]
  },
  {
   "cell_type": "code",
   "execution_count": 50,
   "metadata": {},
   "outputs": [
    {
     "name": "stdout",
     "output_type": "stream",
     "text": [
      "              precision    recall  f1-score   support\n",
      "\n",
      "           F       0.50      0.32      0.39       262\n",
      "           I       0.68      0.85      0.75       267\n",
      "           M       0.50      0.55      0.52       307\n",
      "\n",
      "    accuracy                           0.57       836\n",
      "   macro avg       0.56      0.57      0.56       836\n",
      "weighted avg       0.56      0.57      0.55       836\n",
      "\n"
     ]
    }
   ],
   "source": [
    "from sklearn.metrics import classification_report\n",
    "print(classification_report(y_test,df1))"
   ]
  },
  {
   "cell_type": "code",
   "execution_count": 52,
   "metadata": {},
   "outputs": [
    {
     "name": "stdout",
     "output_type": "stream",
     "text": [
      "[[ 83  43 136]\n",
      " [  8 226  33]\n",
      " [ 75  63 169]]\n"
     ]
    }
   ],
   "source": [
    "from sklearn import metrics\n",
    "cd=metrics.confusion_matrix(y_test,df1)\n",
    "print(cd)"
   ]
  },
  {
   "cell_type": "code",
   "execution_count": 60,
   "metadata": {},
   "outputs": [
    {
     "data": {
      "text/plain": [
       "Text(0.5, 192.0, 'Predicted')"
      ]
     },
     "execution_count": 60,
     "metadata": {},
     "output_type": "execute_result"
    },
    {
     "data": {
      "image/png": "[encoded data removed]",
      "text/plain": [
       "<Figure size 720x720 with 2 Axes>"
      ]
     },
     "metadata": {
      "needs_background": "light"
     },
     "output_type": "display_data"
    }
   ],
   "source": [
    "plt.figure(figsize=(10,10))\n",
    "sns.heatmap(cd,annot=True,fmt=\".3f\", linewidths=.5, square = True,cmap = 'Blues_r')\n",
    "plt.ylabel('Actual')\n",
    "plt.xlabel('Predicted')"
   ]
  },
  {
   "cell_type": "markdown",
   "metadata": {},
   "source": [
    "## Model saving"
   ]
  },
  {
   "cell_type": "code",
   "execution_count": 66,
   "metadata": {},
   "outputs": [],
   "source": [
    "from sklearn.externals import joblib"
   ]
  },
  {
   "cell_type": "code",
   "execution_count": 69,
   "metadata": {},
   "outputs": [
    {
     "data": {
      "text/plain": [
       "['./model/clf_saved.sav']"
      ]
     },
     "execution_count": 69,
     "metadata": {},
     "output_type": "execute_result"
    }
   ],
   "source": [
    "PATH_MODEL = './model/clf_saved.sav'\n",
    "joblib.dump(clf,PATH_MODEL)"
   ]
  },
  {
   "cell_type": "code",
   "execution_count": 70,
   "metadata": {},
   "outputs": [],
   "source": [
    "# model loading\n",
    "clf_loaded = joblib.load(PATH_MODEL)"
   ]
  },
  {
   "cell_type": "code",
   "execution_count": 72,
   "metadata": {},
   "outputs": [
    {
     "data": {
      "text/plain": [
       "array(['F', 'M', 'F', 'M', 'M', 'I', 'I', 'I', 'I', 'M', 'F', 'I', 'M',\n",
       "       'I', 'I', 'F', 'F', 'M', 'F', 'I', 'F', 'M', 'M', 'F', 'M', 'I',\n",
       "       'I', 'I', 'M', 'M', 'M', 'F', 'I', 'M', 'I', 'M', 'I', 'I', 'I',\n",
       "       'I', 'M', 'F', 'F', 'I', 'M', 'M', 'M', 'M', 'M', 'I', 'I', 'F',\n",
       "       'I', 'I', 'I', 'M', 'M', 'F', 'M', 'I', 'M', 'F', 'F', 'I', 'I',\n",
       "       'M', 'I', 'I', 'I', 'I', 'F', 'M', 'I', 'I', 'I', 'M', 'F', 'M',\n",
       "       'F', 'I', 'M', 'F', 'F', 'I', 'I', 'F', 'M', 'I', 'M', 'M', 'I',\n",
       "       'F', 'F', 'F', 'F', 'M', 'I', 'M', 'I', 'I', 'F', 'M', 'M', 'M',\n",
       "       'M', 'I', 'M', 'I', 'M', 'M', 'M', 'I', 'F', 'M', 'I', 'I', 'I',\n",
       "       'M', 'M', 'F', 'F', 'M', 'M', 'F', 'I', 'M', 'M', 'M', 'F', 'F',\n",
       "       'M', 'I', 'M', 'I', 'I', 'I', 'F', 'F', 'I', 'M', 'I', 'I', 'I',\n",
       "       'I', 'M', 'F', 'M', 'M', 'I', 'M', 'I', 'M', 'M', 'M', 'M', 'M',\n",
       "       'F', 'I', 'I', 'I', 'F', 'I', 'F', 'F', 'I', 'F', 'F', 'F', 'M',\n",
       "       'I', 'M', 'M', 'F', 'I', 'I', 'I', 'M', 'M', 'M', 'M', 'M', 'I',\n",
       "       'I', 'M', 'I', 'I', 'I', 'M', 'M', 'I', 'I', 'I', 'F', 'M', 'M',\n",
       "       'M', 'F', 'M', 'F', 'F', 'I', 'F', 'F', 'M', 'I', 'F', 'F', 'M',\n",
       "       'I', 'M', 'I', 'M', 'M', 'I', 'M', 'M', 'M', 'I', 'M', 'F', 'M',\n",
       "       'I', 'F', 'F', 'I', 'I', 'I', 'F', 'M', 'M', 'I', 'M', 'M', 'F',\n",
       "       'I', 'M', 'I', 'I', 'I', 'M', 'M', 'F', 'M', 'I', 'M', 'I', 'I',\n",
       "       'I', 'I', 'I', 'I', 'F', 'M', 'I', 'F', 'F', 'M', 'I', 'M', 'M',\n",
       "       'M', 'M', 'I', 'M', 'I', 'I', 'I', 'M', 'M', 'I', 'M', 'M', 'I',\n",
       "       'M', 'I', 'F', 'F', 'F', 'M', 'I', 'F', 'I', 'M', 'M', 'I', 'F',\n",
       "       'M', 'I', 'M', 'F', 'M', 'I', 'M', 'I', 'M', 'M', 'I', 'F', 'I',\n",
       "       'M', 'M', 'M', 'I', 'M', 'M', 'I', 'F', 'M', 'I', 'I', 'M', 'I',\n",
       "       'I', 'M', 'F', 'M', 'I', 'F', 'M', 'I', 'F', 'I', 'I', 'I', 'M',\n",
       "       'I', 'F', 'F', 'I', 'M', 'I', 'I', 'I', 'M', 'M', 'I', 'M', 'F',\n",
       "       'M', 'M', 'M', 'M', 'F', 'I', 'I', 'M', 'M', 'M', 'M', 'I', 'F',\n",
       "       'M', 'M', 'F', 'M', 'I', 'I', 'I', 'I', 'M', 'M', 'I', 'M', 'I',\n",
       "       'M', 'I', 'F', 'M', 'M', 'I', 'F', 'F', 'I', 'I', 'F', 'F', 'I',\n",
       "       'I', 'I', 'M', 'M', 'I', 'I', 'M', 'M', 'I', 'F', 'M', 'I', 'I',\n",
       "       'M', 'M', 'I', 'F', 'I', 'M', 'M', 'F', 'F', 'I', 'F', 'I', 'M',\n",
       "       'I', 'I', 'I', 'M', 'I', 'F', 'M', 'F', 'F', 'I', 'M', 'F', 'I',\n",
       "       'I', 'I', 'F', 'F', 'I', 'M', 'I', 'I', 'F', 'M', 'M', 'M', 'M',\n",
       "       'M', 'M', 'M', 'M', 'M', 'F', 'I', 'F', 'I', 'M', 'M', 'I', 'F',\n",
       "       'M', 'I', 'M', 'M', 'M', 'F', 'M', 'F', 'I', 'M', 'I', 'I', 'I',\n",
       "       'F', 'I', 'I', 'M', 'I', 'I', 'M', 'M', 'M', 'I', 'I', 'M', 'M',\n",
       "       'I', 'I', 'I', 'F', 'I', 'I', 'M', 'I', 'F', 'F', 'I', 'M', 'M',\n",
       "       'M', 'I', 'M', 'I', 'I', 'F', 'M', 'M', 'I', 'F', 'M', 'I', 'M',\n",
       "       'I', 'M', 'M', 'M', 'I', 'M', 'I', 'F', 'I', 'M', 'I', 'I', 'I',\n",
       "       'M', 'F', 'M', 'I', 'M', 'M', 'I', 'I', 'M', 'I', 'M', 'M', 'F',\n",
       "       'M', 'I', 'F', 'M', 'I', 'I', 'I', 'M', 'M', 'M', 'I', 'M', 'I',\n",
       "       'F', 'M', 'I', 'F', 'F', 'M', 'M', 'I', 'I', 'M', 'M', 'I', 'I',\n",
       "       'I', 'I', 'M', 'M', 'I', 'M', 'F', 'M', 'I', 'I', 'M', 'I', 'I',\n",
       "       'I', 'I', 'I', 'I', 'M', 'I', 'M', 'F', 'M', 'I', 'M', 'I', 'I',\n",
       "       'M', 'I', 'I', 'M', 'I', 'M', 'I', 'I', 'I', 'I', 'I', 'I', 'M',\n",
       "       'M', 'M', 'F', 'I', 'F', 'M', 'M', 'M', 'I', 'I', 'M', 'I', 'M',\n",
       "       'I', 'F', 'I', 'F', 'F', 'F', 'M', 'M', 'F', 'I', 'M', 'M', 'I',\n",
       "       'I', 'I', 'M', 'M', 'M', 'M', 'M', 'I', 'I', 'M', 'I', 'M', 'I',\n",
       "       'M', 'M', 'F', 'F', 'I', 'F', 'I', 'I', 'M', 'I', 'F', 'F', 'I',\n",
       "       'M', 'I', 'M', 'I', 'I', 'I', 'F', 'F', 'I', 'M', 'M', 'M', 'F',\n",
       "       'M', 'I', 'I', 'M', 'F', 'M', 'I', 'I', 'F', 'F', 'M', 'I', 'M',\n",
       "       'M', 'I', 'I', 'M', 'M', 'I', 'M', 'I', 'I', 'F', 'I', 'I', 'F',\n",
       "       'I', 'M', 'M', 'M', 'F', 'M', 'I', 'I', 'M', 'M', 'F', 'I', 'I',\n",
       "       'I', 'M', 'F', 'M', 'M', 'F', 'I', 'F', 'M', 'F', 'I', 'M', 'M',\n",
       "       'M', 'M', 'M', 'M', 'I', 'I', 'M', 'I', 'F', 'M', 'M', 'I', 'M',\n",
       "       'M', 'F', 'M', 'M', 'M', 'M', 'M', 'I', 'M', 'F', 'M', 'F', 'I',\n",
       "       'I', 'I', 'M', 'I', 'M', 'M', 'I', 'I', 'M', 'M', 'M', 'I', 'F',\n",
       "       'M', 'I', 'F', 'F', 'F', 'I', 'M', 'M', 'F', 'I', 'F', 'F', 'F',\n",
       "       'M', 'M', 'M', 'I', 'F', 'M', 'I', 'F', 'I', 'F', 'M', 'M', 'I',\n",
       "       'F', 'I', 'I', 'M', 'I', 'M', 'I', 'M', 'M', 'I', 'I', 'M', 'M',\n",
       "       'F', 'M', 'F', 'I', 'F', 'M', 'F', 'I', 'I', 'M', 'I', 'I', 'F',\n",
       "       'F', 'M', 'M', 'M', 'F', 'F', 'I', 'M', 'I', 'I', 'I', 'I', 'I',\n",
       "       'I', 'F', 'M', 'M', 'M', 'M', 'F', 'I', 'M', 'M', 'M', 'M', 'I',\n",
       "       'I', 'M', 'M', 'M', 'M', 'I', 'I', 'I', 'I', 'I', 'I', 'M', 'M',\n",
       "       'M', 'M', 'I', 'I'], dtype=object)"
      ]
     },
     "execution_count": 72,
     "metadata": {},
     "output_type": "execute_result"
    }
   ],
   "source": [
    "clf_loaded.predict(x_test)"
   ]
  },
  {
   "cell_type": "code",
   "execution_count": null,
   "metadata": {},
   "outputs": [],
   "source": []
  }
 ],
 "metadata": {
  "kernelspec": {
   "display_name": "Python [conda env:.conda-ml] *",
   "language": "python",
   "name": "conda-env-.conda-ml-py"
  },
  "language_info": {
   "codemirror_mode": {
    "name": "ipython",
    "version": 3
   },
   "file_extension": ".py",
   "mimetype": "text/x-python",
   "name": "python",
   "nbconvert_exporter": "python",
   "pygments_lexer": "ipython3",
   "version": "3.7.5"
  }
 },
 "nbformat": 4,
 "nbformat_minor": 2
}
